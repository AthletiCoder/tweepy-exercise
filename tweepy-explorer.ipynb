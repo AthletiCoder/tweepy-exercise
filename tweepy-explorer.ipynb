{
 "cells": [
  {
   "cell_type": "code",
   "execution_count": 1,
   "metadata": {},
   "outputs": [
    {
     "name": "stdout",
     "output_type": "stream",
     "text": [
      "Requirement already satisfied: pandas in /usr/local/lib/python3.7/site-packages (1.1.2)\n",
      "Requirement already satisfied: pytz>=2017.2 in /usr/local/lib/python3.7/site-packages (from pandas) (2020.1)\n",
      "Requirement already satisfied: python-dateutil>=2.7.3 in /usr/local/lib/python3.7/site-packages (from pandas) (2.8.1)\n",
      "Requirement already satisfied: numpy>=1.15.4 in /usr/local/lib/python3.7/site-packages (from pandas) (1.18.1)\n",
      "Requirement already satisfied: six>=1.5 in /usr/local/lib/python3.7/site-packages (from python-dateutil>=2.7.3->pandas) (1.13.0)\n"
     ]
    }
   ],
   "source": [
    "import sys\n",
    "!{sys.executable} -m pip install tweepy, pandas"
   ]
  },
  {
   "cell_type": "code",
   "execution_count": 11,
   "metadata": {},
   "outputs": [],
   "source": [
    "import tweepy, pandas, time\n",
    "\n",
    "# Move these variables to a different file\n",
    "api_key = \"VXgR1U7vZ8filJUsejTClTFn1\"\n",
    "api_secret_key = \"KMw5FQFrOvIVSgKGWGjtaLyl72PwLgqa8QR4vWECNeqUYZqXJq\"\n",
    "access_token = \"1392749620816715778-rlnRrGD1YO29Xk8joOvgZN25XwHm1y\"\n",
    "access_token_secret = \"nzPXB8pAJ41xXw2ZAHDacU97rUYY9iEO01dQO7lpUuqEl\"\n",
    "bearer_token = \"AAAAAAAAAAAAAAAAAAAAAIdmPgEAAAAA4su8iN1CbY%2BB4I%2BdURW85HGdhZs%3DeZLjavRqcowp4StQDV7wgNvEYvKVRR1k3umVgZOoJx3wB6od7k\""
   ]
  },
  {
   "cell_type": "code",
   "execution_count": null,
   "metadata": {},
   "outputs": [],
   "source": [
    "# Initializing the twitter API\n",
    "auth = tweepy.OAuthHandler(api_key, api_secret_key)\n",
    "auth.set_access_token(access_token, access_token_secret)\n",
    "api = tweepy.API(auth, wait_on_rate_limit=True)"
   ]
  },
  {
   "cell_type": "markdown",
   "metadata": {},
   "source": [
    "## Follower analysis\n",
    "* Analyse demographics of followers\n",
    "* Growth of follower count over time\n",
    "* Growth of cryto-enthu follower count over time"
   ]
  },
  {
   "cell_type": "code",
   "execution_count": null,
   "metadata": {},
   "outputs": [],
   "source": [
    "ids = []\n",
    "follower_data = []\n",
    "columns = set()\n",
    "allowed_types = [str, int]\n",
    "for page in tweepy.Cursor(api.followers, screen_name=\"elonmusk\").pages():\n",
    "    for follower in page:\n",
    "        follower_dict = dict(vars(follower))\n",
    "        keys = follower_dict.keys()\n",
    "        single_follower_data = {}\n",
    "        for key in keys:\n",
    "            try:\n",
    "                val = type(follower_dict[key])\n",
    "            except:\n",
    "                val = None\n",
    "            if val != None:\n",
    "                if val in allowed_types:\n",
    "                    single_follower_data[key] = follower_dict[key]\n",
    "                    columns.add(key)\n",
    "    follower_data.append(single_follower_data)\n",
    "\n",
    "    header_cols = list(columns)\n",
    "    print(\"Fetched first batch of followers\")\n",
    "    break\n",
    "df = pd.DataFrame(follower_data, columns=header_cols)\n",
    "print(df.head())"
   ]
  },
  {
   "cell_type": "markdown",
   "metadata": {},
   "source": [
    "## Tweet analysis\n",
    "* Check if there's any correlation between tweets related to btc, doge and their respective prices\n",
    "* Check how tweets related to tesla/spacex/boring compary are influencing the stock price"
   ]
  },
  {
   "cell_type": "code",
   "execution_count": null,
   "metadata": {},
   "outputs": [],
   "source": [
    "ids = []\n",
    "for page in tweepy.Cursor(api.followers_ids, screen_name=\"elonmusk\").pages():\n",
    "    columns = set()\n",
    "    allowed_types = [str, int]\n",
    "    tweets_data = []\n",
    "    for status in timeline_list:\n",
    "        status_dict = dict(vars(status))\n",
    "        keys = status_dict.keys()\n",
    "        single_tweet_data = {\"user\": status.user.screen_name, \"author\": status.author.screen_name}\n",
    "        for k in keys:\n",
    "            try:\n",
    "                v_type = type(status_dict[k])\n",
    "            except:\n",
    "                v_type = None\n",
    "            if v_type != None:\n",
    "                if v_type in allowed_types:\n",
    "                    single_tweet_data[k] = status_dict[k]\n",
    "                    columns.add(k)\n",
    "        tweets_data.append(single_tweet_data)\n",
    "\n",
    "\n",
    "    header_cols = list(columns)\n",
    "    header_cols.append(\"user\")\n",
    "    header_cols.append('author')\n",
    "    df = pd.DataFrame(tweets_data, columns=header_cols)\n",
    "    return df\n",
    "print(ids)"
   ]
  }
 ],
 "metadata": {
  "kernelspec": {
   "display_name": "Python 3",
   "language": "python",
   "name": "python3"
  },
  "language_info": {
   "codemirror_mode": {
    "name": "ipython",
    "version": 3
   },
   "file_extension": ".py",
   "mimetype": "text/x-python",
   "name": "python",
   "nbconvert_exporter": "python",
   "pygments_lexer": "ipython3",
   "version": "3.7.4"
  }
 },
 "nbformat": 4,
 "nbformat_minor": 2
}
